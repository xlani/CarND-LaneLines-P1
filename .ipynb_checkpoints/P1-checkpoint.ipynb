{
 "cells": [
  {
   "cell_type": "markdown",
   "metadata": {},
   "source": [
    "# Self-Driving Car Engineer Nanodegree\n",
    "\n",
    "\n",
    "## Project: **Finding Lane Lines on the Road** \n",
    "***\n",
    "In this project, you will use the tools you learned about in the lesson to identify lane lines on the road.  You can develop your pipeline on a series of individual images, and later apply the result to a video stream (really just a series of images). Check out the video clip \"raw-lines-example.mp4\" (also contained in this repository) to see what the output should look like after using the helper functions below. \n",
    "\n",
    "Once you have a result that looks roughly like \"raw-lines-example.mp4\", you'll need to get creative and try to average and/or extrapolate the line segments you've detected to map out the full extent of the lane lines.  You can see an example of the result you're going for in the video \"P1_example.mp4\".  Ultimately, you would like to draw just one line for the left side of the lane, and one for the right.\n",
    "\n",
    "In addition to implementing code, there is a brief writeup to complete. The writeup should be completed in a separate file, which can be either a markdown file or a pdf document. There is a [write up template](https://github.com/udacity/CarND-LaneLines-P1/blob/master/writeup_template.md) that can be used to guide the writing process. Completing both the code in the Ipython notebook and the writeup template will cover all of the [rubric points](https://review.udacity.com/#!/rubrics/322/view) for this project.\n",
    "\n",
    "---\n",
    "Let's have a look at our first image called 'test_images/solidWhiteRight.jpg'.  Run the 2 cells below (hit Shift-Enter or the \"play\" button above) to display the image.\n",
    "\n",
    "**Note: If, at any point, you encounter frozen display windows or other confounding issues, you can always start again with a clean slate by going to the \"Kernel\" menu above and selecting \"Restart & Clear Output\".**\n",
    "\n",
    "---"
   ]
  },
  {
   "cell_type": "markdown",
   "metadata": {},
   "source": [
    "**The tools you have are color selection, region of interest selection, grayscaling, Gaussian smoothing, Canny Edge Detection and Hough Tranform line detection.  You  are also free to explore and try other techniques that were not presented in the lesson.  Your goal is piece together a pipeline to detect the line segments in the image, then average/extrapolate them and draw them onto the image for display (as below).  Once you have a working pipeline, try it out on the video stream below.**\n",
    "\n",
    "---\n",
    "\n",
    "<figure>\n",
    " <img src=\"examples/line-segments-example.jpg\" width=\"380\" alt=\"Combined Image\" />\n",
    " <figcaption>\n",
    " <p></p> \n",
    " <p style=\"text-align: center;\"> Your output should look something like this (above) after detecting line segments using the helper functions below </p> \n",
    " </figcaption>\n",
    "</figure>\n",
    " <p></p> \n",
    "<figure>\n",
    " <img src=\"examples/laneLines_thirdPass.jpg\" width=\"380\" alt=\"Combined Image\" />\n",
    " <figcaption>\n",
    " <p></p> \n",
    " <p style=\"text-align: center;\"> Your goal is to connect/average/extrapolate line segments to get output like this</p> \n",
    " </figcaption>\n",
    "</figure>"
   ]
  },
  {
   "cell_type": "markdown",
   "metadata": {},
   "source": [
    "**Run the cell below to import some packages.  If you get an `import error` for a package you've already installed, try changing your kernel (select the Kernel menu above --> Change Kernel).  Still have problems?  Try relaunching Jupyter Notebook from the terminal prompt.  Also, consult the forums for more troubleshooting tips.**  "
   ]
  },
  {
   "cell_type": "markdown",
   "metadata": {},
   "source": [
    "## Import Packages"
   ]
  },
  {
   "cell_type": "code",
   "execution_count": 1,
   "metadata": {},
   "outputs": [],
   "source": [
    "#importing some useful packages\n",
    "import matplotlib.pyplot as plt\n",
    "import matplotlib.image as mpimg\n",
    "import numpy as np\n",
    "import cv2\n",
    "%matplotlib inline"
   ]
  },
  {
   "cell_type": "markdown",
   "metadata": {},
   "source": [
    "## Read in an Image"
   ]
  },
  {
   "cell_type": "code",
   "execution_count": null,
   "metadata": {},
   "outputs": [],
   "source": [
    "#reading in an image\n",
    "image = mpimg.imread('test_images/solidWhiteRight.jpg')\n",
    "\n",
    "#printing out some stats and plotting\n",
    "print('This image is:', type(image), 'with dimensions:', image.shape)\n",
    "plt.imshow(image)  # if you wanted to show a single color channel image called 'gray', for example, call as plt.imshow(gray, cmap='gray')"
   ]
  },
  {
   "cell_type": "markdown",
   "metadata": {},
   "source": [
    "## Ideas for Lane Detection Pipeline"
   ]
  },
  {
   "cell_type": "markdown",
   "metadata": {},
   "source": [
    "**Some OpenCV functions (beyond those introduced in the lesson) that might be useful for this project are:**\n",
    "\n",
    "`cv2.inRange()` for color selection  \n",
    "`cv2.fillPoly()` for regions selection  \n",
    "`cv2.line()` to draw lines on an image given endpoints  \n",
    "`cv2.addWeighted()` to coadd / overlay two images\n",
    "`cv2.cvtColor()` to grayscale or change color\n",
    "`cv2.imwrite()` to output images to file  \n",
    "`cv2.bitwise_and()` to apply a mask to an image\n",
    "\n",
    "**Check out the OpenCV documentation to learn about these and discover even more awesome functionality!**"
   ]
  },
  {
   "cell_type": "markdown",
   "metadata": {},
   "source": [
    "## Helper Functions"
   ]
  },
  {
   "cell_type": "markdown",
   "metadata": {},
   "source": [
    "Below are some helper functions to help get you started. They should look familiar from the lesson!"
   ]
  },
  {
   "cell_type": "code",
   "execution_count": 23,
   "metadata": {},
   "outputs": [],
   "source": [
    "import math\n",
    "\n",
    "def grayscale(img):\n",
    "    \"\"\"Applies the Grayscale transform\n",
    "    This will return an image with only one color channel\n",
    "    but NOTE: to see the returned image as grayscale\n",
    "    (assuming your grayscaled image is called 'gray')\n",
    "    you should call plt.imshow(gray, cmap='gray')\"\"\"\n",
    "    return cv2.cvtColor(img, cv2.COLOR_RGB2GRAY)\n",
    "    # Or use BGR2GRAY if you read an image with cv2.imread()\n",
    "    # return cv2.cvtColor(img, cv2.COLOR_BGR2GRAY)\n",
    "    \n",
    "def canny(img, low_threshold, high_threshold):\n",
    "    \"\"\"Applies the Canny transform\"\"\"\n",
    "    return cv2.Canny(img, low_threshold, high_threshold)\n",
    "\n",
    "def gaussian_blur(img, kernel_size):\n",
    "    \"\"\"Applies a Gaussian Noise kernel\"\"\"\n",
    "    return cv2.GaussianBlur(img, (kernel_size, kernel_size), 0)\n",
    "\n",
    "def region_of_interest(img, vertices):\n",
    "    \"\"\"\n",
    "    Applies an image mask.\n",
    "    \n",
    "    Only keeps the region of the image defined by the polygon\n",
    "    formed from `vertices`. The rest of the image is set to black.\n",
    "    \"\"\"\n",
    "    #defining a blank mask to start with\n",
    "    mask = np.zeros_like(img)   \n",
    "    \n",
    "    #defining a 3 channel or 1 channel color to fill the mask with depending on the input image\n",
    "    if len(img.shape) > 2:\n",
    "        channel_count = img.shape[2]  # i.e. 3 or 4 depending on your image\n",
    "        ignore_mask_color = (255,) * channel_count\n",
    "    else:\n",
    "        ignore_mask_color = 255\n",
    "        \n",
    "    #filling pixels inside the polygon defined by \"vertices\" with the fill color    \n",
    "    cv2.fillPoly(mask, vertices, ignore_mask_color)\n",
    "    \n",
    "    #returning the image only where mask pixels are nonzero\n",
    "    masked_image = cv2.bitwise_and(img, mask)\n",
    "    return masked_image\n",
    "\n",
    "\n",
    "def draw_lines(img, lines, color=[255, 0, 0], thickness=2):\n",
    "    \"\"\"\n",
    "    NOTE: this is the function you might want to use as a starting point once you want to \n",
    "    average/extrapolate the line segments you detect to map out the full\n",
    "    extent of the lane (going from the result shown in raw-lines-example.mp4\n",
    "    to that shown in P1_example.mp4).  \n",
    "    \n",
    "    Think about things like separating line segments by their \n",
    "    slope ((y2-y1)/(x2-x1)) to decide which segments are part of the left\n",
    "    line vs. the right line.  Then, you can average the position of each of \n",
    "    the lines and extrapolate to the top and bottom of the lane.\n",
    "    \n",
    "    This function draws `lines` with `color` and `thickness`.    \n",
    "    Lines are drawn on the image inplace (mutates the image).\n",
    "    If you want to make the lines semi-transparent, think about combining\n",
    "    this function with the weighted_img() function below\n",
    "    \"\"\"\n",
    "    \n",
    "    # Arrays for slope, intercept & lenght values for left/right line\n",
    "    left_lines_slope = []\n",
    "    left_lines_intercept = []\n",
    "    left_lines_length = []\n",
    "    right_lines_slope = []\n",
    "    right_lines_intercept = []\n",
    "    right_lines_length = []    \n",
    "    \n",
    "    # Loop to determine slope & intercept values\n",
    "    for line in lines:\n",
    "        for x1,y1,x2,y2 in line:\n",
    "            \n",
    "            # Ignore vertical line, because of divide through 0 for slope\n",
    "            if (x1 == x2):\n",
    "                continue\n",
    "                \n",
    "            slope = (y2 - y1) / (x2 - x1)\n",
    "            intercept = y1 - slope * x1\n",
    "            length = np.sqrt((y2 - y1)**2 + (x2 - x1)**2) \n",
    "            \n",
    "            # negative slope for left lines\n",
    "            if (slope < 0):\n",
    "                left_lines_slope.append(slope)\n",
    "                left_lines_intercept.append(intercept)\n",
    "                left_lines_length.append(length)          \n",
    "                \n",
    "            # positive slope for right lines\n",
    "            else:\n",
    "                right_lines_slope.append(slope)\n",
    "                right_lines_intercept.append(intercept)\n",
    "                right_lines_length.append(length)\n",
    "                \n",
    "    # Calculation of avg values for slope & intercept (weighted by length)\n",
    "    if(len(left_lines_length) > 0):\n",
    "        left_lane_slope = np.dot(left_lines_slope,  left_lines_length) /np.sum(left_lines_length)\n",
    "        left_lane_intercept = np.dot(left_lines_intercept,  left_lines_length) /np.sum(left_lines_length)\n",
    "        #print(left_lane_slope)\n",
    "        #print(left_lane_intercept)\n",
    "        \n",
    "    else:\n",
    "        mpimg.imsave('debug_left.png', masked_edges)\n",
    "        left_lane_slope = None\n",
    "        left_lane_intercept = None\n",
    "        \n",
    "    if(len(right_lines_length) > 0):\n",
    "        right_lane_slope = np.dot(right_lines_slope,  right_lines_length) /np.sum(right_lines_length)\n",
    "        right_lane_intercept = np.dot(right_lines_intercept,  right_lines_length) /np.sum(right_lines_length)\n",
    "        \n",
    "    else:\n",
    "        mpimg.imsave('debug_right.png', masked_edges)\n",
    "        right_lane_slope = None\n",
    "        right_lane_slope = None\n",
    "\n",
    "    # Calculate start & end points y for both lines\n",
    "    start_point_both_y = img.shape[0]\n",
    "    end_point_both_y = img.shape[0] * 330/540\n",
    "    \n",
    "    # Draw left line, if left_lane is identified\n",
    "    if left_lane_slope is not None:\n",
    "        start_point_left_x = (start_point_both_y - left_lane_intercept) / left_lane_slope\n",
    "        end_point_left_x = (end_point_both_y - left_lane_intercept) / left_lane_slope\n",
    "        cv2.line(img, (int(start_point_left_x), int(start_point_both_y)), (int(end_point_left_x), int(end_point_both_y)), color, 4)\n",
    "\n",
    "    # Draw right line, if right lane is identified   \n",
    "    if right_lane_slope is not None:\n",
    "        start_point_right_x = (start_point_both_y - right_lane_intercept) / right_lane_slope\n",
    "        end_point_right_x = (end_point_both_y - right_lane_intercept) / right_lane_slope\n",
    "        cv2.line(img, (int(start_point_right_x), int(start_point_both_y)), (int(end_point_right_x), int(end_point_both_y)), color, 4)\n",
    "\n",
    "def hough_lines(img, rho, theta, threshold, min_line_len, max_line_gap):\n",
    "    \"\"\"\n",
    "    `img` should be the output of a Canny transform.\n",
    "        \n",
    "    Returns an image with hough lines drawn.\n",
    "    \"\"\"\n",
    "    lines = cv2.HoughLinesP(img, rho, theta, threshold, np.array([]), minLineLength=min_line_len, maxLineGap=max_line_gap)\n",
    "    line_img = np.zeros((img.shape[0], img.shape[1], 3), dtype=np.uint8)\n",
    "    draw_lines(line_img, lines)\n",
    "    return line_img\n",
    "\n",
    "# Python 3 has support for cool math symbols.\n",
    "\n",
    "def weighted_img(img, initial_img, α=0.8, β=1., λ=0.):\n",
    "    \"\"\"\n",
    "    `img` is the output of the hough_lines(), An image with lines drawn on it.\n",
    "    Should be a blank image (all black) with lines drawn on it.\n",
    "    \n",
    "    `initial_img` should be the image before any processing.\n",
    "    \n",
    "    The result image is computed as follows:\n",
    "    \n",
    "    initial_img * α + img * β + λ\n",
    "    NOTE: initial_img and img must be the same shape!\n",
    "    \"\"\"\n",
    "    return cv2.addWeighted(initial_img, α, img, β, λ)"
   ]
  },
  {
   "cell_type": "markdown",
   "metadata": {},
   "source": [
    "## Test Images\n",
    "\n",
    "Build your pipeline to work on the images in the directory \"test_images\"  \n",
    "**You should make sure your pipeline works well on these images before you try the videos.**"
   ]
  },
  {
   "cell_type": "code",
   "execution_count": 25,
   "metadata": {},
   "outputs": [
    {
     "data": {
      "text/plain": [
       "['solidWhiteCurve.jpg',\n",
       " 'solidWhiteRight.jpg',\n",
       " 'solidYellowCurve.jpg',\n",
       " 'solidYellowCurve2.jpg',\n",
       " 'solidYellowLeft.jpg',\n",
       " 'whiteCarLaneSwitch.jpg']"
      ]
     },
     "execution_count": 25,
     "metadata": {},
     "output_type": "execute_result"
    }
   ],
   "source": [
    "import os\n",
    "os.listdir(\"test_images/\")"
   ]
  },
  {
   "cell_type": "markdown",
   "metadata": {},
   "source": [
    "## Build a Lane Finding Pipeline\n",
    "\n"
   ]
  },
  {
   "cell_type": "markdown",
   "metadata": {},
   "source": [
    "Build the pipeline and run your solution on all test_images. Make copies into the `test_images_output` directory, and you can use the images in your writeup report.\n",
    "\n",
    "Try tuning the various parameters, especially the low and high Canny thresholds as well as the Hough lines parameters."
   ]
  },
  {
   "cell_type": "code",
   "execution_count": 50,
   "metadata": {},
   "outputs": [
    {
     "name": "stdout",
     "output_type": "stream",
     "text": [
      "test_images/solidWhiteCurve.jpg loaded.\n",
      "test_images/solidWhiteRight.jpg loaded.\n",
      "test_images/solidYellowCurve.jpg loaded.\n",
      "test_images/solidYellowCurve2.jpg loaded.\n",
      "test_images/solidYellowLeft.jpg loaded.\n",
      "test_images/whiteCarLaneSwitch.jpg loaded.\n"
     ]
    }
   ],
   "source": [
    "# TODO: Build your pipeline that will draw lane lines on the test_images\n",
    "# then save them to the test_images directory.\n",
    "\n",
    "# Read image list out of directory\n",
    "# Loop for every image in directory \"test_images/\"\n",
    "\n",
    "list_images = os.listdir(\"test_images/\")\n",
    "\n",
    "for n in range(0,6):\n",
    "    str_img = ''\n",
    "    str_img = 'test_images/' + list_images[n]\n",
    "    image = mpimg.imread(str_img)\n",
    "    print(str_img + ' loaded.')\n",
    "\n",
    "    # Grayscale image\n",
    "    gray = grayscale(image)\n",
    "    #plt.imshow(gray, cmap='gray')\n",
    "\n",
    "    # Apply gaussian blur\n",
    "    kernel_size = 7\n",
    "    blur_gray = gaussian_blur(gray, kernel_size)\n",
    "    #plt.imshow(blur_gray, cmap='gray')\n",
    "\n",
    "    # Canny transformation\n",
    "    high_threshold = 150\n",
    "    low_threshold = 50\n",
    "    edges = canny(blur_gray, low_threshold, high_threshold)\n",
    "    #plt.imshow(edges)\n",
    "\n",
    "    # Mask region of interest\n",
    "    ysize = image.shape[0]\n",
    "    xsize = image.shape[1]\n",
    "\n",
    "    bottom_left  = [0.1 * xsize, 0.95 * ysize]\n",
    "    top_left     = [0.4 * xsize, 0.6 * ysize]\n",
    "    bottom_right = [0.9 * xsize, 0.95 * ysize]\n",
    "    top_right    = [0.6 * xsize, 0.6 * ysize]\n",
    "    \n",
    "    vertices = np.array([[bottom_left, top_left, top_right, bottom_right]], dtype=np.int32)\n",
    "    masked_edges = region_of_interest(edges, vertices)\n",
    "    #plt.imshow(masked_edges)\n",
    "    \n",
    "    # Draw hough-lines // see modified function draw_lines in chapter helper_functions\n",
    "    rho = 1\n",
    "    theta = np.pi/180\n",
    "    threshold = 30\n",
    "    min_line_len = 50\n",
    "    max_line_gap = 100\n",
    "    lines_image = hough_lines(masked_edges, rho, theta, threshold, min_line_len, max_line_gap)\n",
    "    #plt.imshow(lines_image)\n",
    "\n",
    "    # Draw lines weighted \n",
    "    weighted_image = weighted_img(lines_image, image)\n",
    "    #plt.imshow(weighted_image)     \n",
    "\n",
    "    # Save image\n",
    "    str_save = 'test_images_output/test-' + list_images[n] + '.png'\n",
    "    mpimg.imsave(str_save, weighted_image)\n",
    "\n"
   ]
  },
  {
   "cell_type": "markdown",
   "metadata": {},
   "source": [
    "## Test on Videos\n",
    "\n",
    "You know what's cooler than drawing lanes over images? Drawing lanes over video!\n",
    "\n",
    "We can test our solution on two provided videos:\n",
    "\n",
    "`solidWhiteRight.mp4`\n",
    "\n",
    "`solidYellowLeft.mp4`\n",
    "\n",
    "**Note: if you get an import error when you run the next cell, try changing your kernel (select the Kernel menu above --> Change Kernel). Still have problems? Try relaunching Jupyter Notebook from the terminal prompt. Also, consult the forums for more troubleshooting tips.**\n",
    "\n",
    "**If you get an error that looks like this:**\n",
    "```\n",
    "NeedDownloadError: Need ffmpeg exe. \n",
    "You can download it by calling: \n",
    "imageio.plugins.ffmpeg.download()\n",
    "```\n",
    "**Follow the instructions in the error message and check out [this forum post](https://discussions.udacity.com/t/project-error-of-test-on-videos/274082) for more troubleshooting tips across operating systems.**"
   ]
  },
  {
   "cell_type": "code",
   "execution_count": 5,
   "metadata": {},
   "outputs": [],
   "source": [
    "# Import everything needed to edit/save/watch video clips\n",
    "from moviepy.editor import VideoFileClip\n",
    "from IPython.display import HTML"
   ]
  },
  {
   "cell_type": "code",
   "execution_count": 65,
   "metadata": {},
   "outputs": [],
   "source": [
    "def process_image(image):\n",
    "    # NOTE: The output you return should be a color image (3 channel) for processing video below\n",
    "    # TODO: put your pipeline here,\n",
    "    # you should return the final output (image where lines are drawn on lanes)\n",
    "        \n",
    "    # Grayscale image\n",
    "    gray = grayscale(image)\n",
    "    #plt.imshow(gray, cmap='gray')\n",
    "\n",
    "    # Apply gaussian blur\n",
    "    kernel_size = 7\n",
    "    blur_gray = gaussian_blur(gray, kernel_size)\n",
    "    #plt.imshow(blur_gray, cmap='gray')\n",
    "\n",
    "    # Canny transformation\n",
    "    high_threshold = 150\n",
    "    low_threshold = 50\n",
    "    edges = canny(blur_gray, low_threshold, high_threshold)\n",
    "    #plt.imshow(edges)\n",
    "\n",
    "    # Mask region of interest\n",
    "    ysize = image.shape[0]\n",
    "    xsize = image.shape[1]\n",
    "\n",
    "    bottom_left  = [0.1 * xsize, 0.95 * ysize]\n",
    "    top_left     = [0.4 * xsize, 0.6 * ysize]\n",
    "    bottom_right = [0.9 * xsize, 0.95 * ysize]\n",
    "    top_right    = [0.6 * xsize, 0.6 * ysize]\n",
    "    \n",
    "    vertices = np.array([[bottom_left, top_left, top_right, bottom_right]], dtype=np.int32)\n",
    "    masked_edges = region_of_interest(edges, vertices)\n",
    "    #plt.imshow(masked_edges)\n",
    "    \n",
    "    # Draw hough-lines // see modified function draw_lines in chapter helper_functions\n",
    "    rho = 1\n",
    "    theta = np.pi/180\n",
    "    threshold = 35\n",
    "    min_line_len = 50\n",
    "    max_line_gap = 150\n",
    "    lines_image = hough_lines(masked_edges, rho, theta, threshold, min_line_len, max_line_gap)\n",
    "    #plt.imshow(lines_image)\n",
    "\n",
    "    # Draw lines weighted \n",
    "    weighted_image = weighted_img(lines_image, image)\n",
    "    #plt.imshow(weighted_image) \n",
    "\n",
    "    # Return image\n",
    "    result = weighted_image\n",
    "    return result"
   ]
  },
  {
   "cell_type": "markdown",
   "metadata": {},
   "source": [
    "Let's try the one with the solid white lane on the right first ..."
   ]
  },
  {
   "cell_type": "code",
   "execution_count": 66,
   "metadata": {},
   "outputs": [
    {
     "name": "stdout",
     "output_type": "stream",
     "text": [
      "[MoviePy] >>>> Building video test_videos_output/solidWhiteRight.mp4\n",
      "[MoviePy] Writing video test_videos_output/solidWhiteRight.mp4\n"
     ]
    },
    {
     "name": "stderr",
     "output_type": "stream",
     "text": [
      "\n",
      "  0%|          | 0/222 [00:00<?, ?it/s]\u001b[A\n",
      "  5%|▌         | 12/222 [00:00<00:01, 112.24it/s]\u001b[A\n",
      " 11%|█▏        | 25/222 [00:00<00:01, 115.49it/s]\u001b[A\n",
      " 17%|█▋        | 38/222 [00:00<00:01, 118.18it/s]\u001b[A\n",
      " 21%|██        | 47/222 [00:00<00:01, 93.02it/s] \u001b[A\n",
      " 25%|██▌       | 56/222 [00:00<00:01, 89.77it/s]\u001b[A\n",
      " 29%|██▉       | 65/222 [00:00<00:01, 89.64it/s]\u001b[A\n",
      " 33%|███▎      | 74/222 [00:00<00:01, 84.21it/s]\u001b[A\n",
      " 37%|███▋      | 82/222 [00:00<00:01, 82.45it/s]\u001b[A\n",
      " 41%|████      | 91/222 [00:00<00:01, 84.56it/s]\u001b[A\n",
      " 45%|████▌     | 100/222 [00:01<00:01, 84.93it/s]\u001b[A\n",
      " 49%|████▉     | 109/222 [00:01<00:01, 84.55it/s]\u001b[A\n",
      " 53%|█████▎    | 118/222 [00:01<00:01, 85.26it/s]\u001b[A\n",
      " 57%|█████▋    | 127/222 [00:01<00:01, 84.81it/s]\u001b[A\n",
      " 61%|██████▏   | 136/222 [00:01<00:01, 82.85it/s]\u001b[A\n",
      " 65%|██████▌   | 145/222 [00:01<00:00, 82.05it/s]\u001b[A\n",
      " 69%|██████▉   | 154/222 [00:01<00:00, 81.85it/s]\u001b[A\n",
      " 73%|███████▎  | 163/222 [00:01<00:00, 82.95it/s]\u001b[A\n",
      " 77%|███████▋  | 172/222 [00:01<00:00, 80.96it/s]\u001b[A\n",
      " 82%|████████▏ | 181/222 [00:02<00:00, 80.98it/s]\u001b[A\n",
      " 86%|████████▌ | 191/222 [00:02<00:00, 83.09it/s]\u001b[A\n",
      " 90%|█████████ | 200/222 [00:02<00:00, 82.37it/s]\u001b[A\n",
      " 94%|█████████▍| 209/222 [00:02<00:00, 82.32it/s]\u001b[A\n",
      " 99%|█████████▊| 219/222 [00:02<00:00, 85.27it/s]\u001b[A\n",
      "100%|█████████▉| 221/222 [00:02<00:00, 86.42it/s]\u001b[A"
     ]
    },
    {
     "name": "stdout",
     "output_type": "stream",
     "text": [
      "[MoviePy] Done.\n",
      "[MoviePy] >>>> Video ready: test_videos_output/solidWhiteRight.mp4 \n",
      "\n",
      "CPU times: user 1.54 s, sys: 211 ms, total: 1.75 s\n",
      "Wall time: 2.89 s\n"
     ]
    }
   ],
   "source": [
    "white_output = 'test_videos_output/solidWhiteRight.mp4'\n",
    "## To speed up the testing process you may want to try your pipeline on a shorter subclip of the video\n",
    "## To do so add .subclip(start_second,end_second) to the end of the line below\n",
    "## Where start_second and end_second are integer values representing the start and end of the subclip\n",
    "## You may also uncomment the following line for a subclip of the first 5 seconds\n",
    "##clip1 = VideoFileClip(\"test_videos/solidWhiteRight.mp4\").subclip(0,5)\n",
    "clip1 = VideoFileClip(\"test_videos/solidWhiteRight.mp4\")\n",
    "white_clip = clip1.fl_image(process_image) #NOTE: this function expects color images!!\n",
    "%time white_clip.write_videofile(white_output, audio=False)"
   ]
  },
  {
   "cell_type": "markdown",
   "metadata": {},
   "source": [
    "Play the video inline, or if you prefer find the video in your filesystem (should be in the same directory) and play it in your video player of choice."
   ]
  },
  {
   "cell_type": "code",
   "execution_count": 68,
   "metadata": {},
   "outputs": [
    {
     "data": {
      "text/html": [
       "\n",
       "<video width=\"960\" height=\"540\" controls>\n",
       "  <source src=\"test_videos_output/solidWhiteRight.mp4\">\n",
       "</video>\n"
      ],
      "text/plain": [
       "<IPython.core.display.HTML object>"
      ]
     },
     "execution_count": 68,
     "metadata": {},
     "output_type": "execute_result"
    }
   ],
   "source": [
    "HTML(\"\"\"\n",
    "<video width=\"960\" height=\"540\" controls>\n",
    "  <source src=\"{0}\">\n",
    "</video>\n",
    "\"\"\".format(white_output))"
   ]
  },
  {
   "cell_type": "markdown",
   "metadata": {},
   "source": [
    "## Improve the draw_lines() function\n",
    "\n",
    "**At this point, if you were successful with making the pipeline and tuning parameters, you probably have the Hough line segments drawn onto the road, but what about identifying the full extent of the lane and marking it clearly as in the example video (P1_example.mp4)?  Think about defining a line to run the full length of the visible lane based on the line segments you identified with the Hough Transform. As mentioned previously, try to average and/or extrapolate the line segments you've detected to map out the full extent of the lane lines. You can see an example of the result you're going for in the video \"P1_example.mp4\".**\n",
    "\n",
    "**Go back and modify your draw_lines function accordingly and try re-running your pipeline. The new output should draw a single, solid line over the left lane line and a single, solid line over the right lane line. The lines should start from the bottom of the image and extend out to the top of the region of interest.**"
   ]
  },
  {
   "cell_type": "markdown",
   "metadata": {},
   "source": [
    "Now for the one with the solid yellow lane on the left. This one's more tricky!"
   ]
  },
  {
   "cell_type": "code",
   "execution_count": 69,
   "metadata": {},
   "outputs": [
    {
     "name": "stdout",
     "output_type": "stream",
     "text": [
      "[MoviePy] >>>> Building video test_videos_output/solidYellowLeft.mp4\n",
      "[MoviePy] Writing video test_videos_output/solidYellowLeft.mp4\n"
     ]
    },
    {
     "name": "stderr",
     "output_type": "stream",
     "text": [
      "\n",
      "  0%|          | 0/682 [00:00<?, ?it/s]\u001b[A\n",
      "  2%|▏         | 12/682 [00:00<00:05, 112.77it/s]\u001b[A\n",
      "  4%|▎         | 25/682 [00:00<00:05, 115.51it/s]\u001b[A\n",
      "  6%|▌         | 38/682 [00:00<00:05, 117.41it/s]\u001b[A\n",
      "  7%|▋         | 47/682 [00:00<00:06, 96.29it/s] \u001b[A\n",
      "  8%|▊         | 55/682 [00:00<00:06, 89.94it/s]\u001b[A\n",
      "  9%|▉         | 63/682 [00:00<00:07, 85.19it/s]\u001b[A\n",
      " 10%|█         | 71/682 [00:00<00:07, 82.99it/s]\u001b[A\n",
      " 12%|█▏        | 80/682 [00:00<00:07, 82.83it/s]\u001b[A\n",
      " 13%|█▎        | 89/682 [00:00<00:07, 82.24it/s]\u001b[A\n",
      " 14%|█▍        | 98/682 [00:01<00:07, 83.38it/s]\u001b[A\n",
      " 16%|█▌        | 107/682 [00:01<00:07, 80.22it/s]\u001b[A\n",
      " 17%|█▋        | 115/682 [00:01<00:07, 77.89it/s]\u001b[A\n",
      " 18%|█▊        | 123/682 [00:01<00:07, 74.22it/s]\u001b[A\n",
      " 19%|█▉        | 131/682 [00:01<00:07, 72.18it/s]\u001b[A\n",
      " 21%|██        | 140/682 [00:01<00:07, 73.18it/s]\u001b[A\n",
      " 22%|██▏       | 148/682 [00:01<00:07, 70.26it/s]\u001b[A\n",
      " 23%|██▎       | 156/682 [00:01<00:07, 69.63it/s]\u001b[A\n",
      " 24%|██▍       | 164/682 [00:02<00:07, 70.15it/s]\u001b[A\n",
      " 25%|██▌       | 172/682 [00:02<00:07, 69.98it/s]\u001b[A\n",
      " 26%|██▋       | 180/682 [00:02<00:07, 70.41it/s]\u001b[A\n",
      " 28%|██▊       | 188/682 [00:02<00:06, 71.61it/s]\u001b[A\n",
      " 29%|██▊       | 196/682 [00:02<00:06, 70.79it/s]\u001b[A\n",
      " 30%|██▉       | 204/682 [00:02<00:06, 72.55it/s]\u001b[A\n",
      " 31%|███       | 212/682 [00:02<00:06, 69.45it/s]\u001b[A\n",
      " 32%|███▏      | 220/682 [00:02<00:06, 70.27it/s]\u001b[A\n",
      " 33%|███▎      | 228/682 [00:02<00:06, 69.02it/s]\u001b[A\n",
      " 34%|███▍      | 235/682 [00:03<00:06, 68.23it/s]\u001b[A\n",
      " 36%|███▌      | 243/682 [00:03<00:06, 70.43it/s]\u001b[A\n",
      " 37%|███▋      | 251/682 [00:03<00:06, 70.46it/s]\u001b[A\n",
      " 38%|███▊      | 259/682 [00:03<00:06, 70.30it/s]\u001b[A\n",
      " 39%|███▉      | 267/682 [00:03<00:05, 70.47it/s]\u001b[A\n",
      " 40%|████      | 275/682 [00:03<00:05, 70.52it/s]\u001b[A\n",
      " 41%|████▏     | 283/682 [00:03<00:05, 70.21it/s]\u001b[A\n",
      " 43%|████▎     | 291/682 [00:03<00:05, 69.87it/s]\u001b[A\n",
      " 44%|████▎     | 298/682 [00:03<00:05, 69.91it/s]\u001b[A\n",
      " 45%|████▍     | 305/682 [00:04<00:05, 69.76it/s]\u001b[A\n",
      " 46%|████▌     | 312/682 [00:04<00:05, 67.98it/s]\u001b[A\n",
      " 47%|████▋     | 321/682 [00:04<00:05, 70.92it/s]\u001b[A\n",
      " 48%|████▊     | 330/682 [00:04<00:04, 74.31it/s]\u001b[A\n",
      " 50%|████▉     | 339/682 [00:04<00:04, 76.98it/s]\u001b[A\n",
      " 51%|█████     | 348/682 [00:04<00:04, 79.23it/s]\u001b[A\n",
      " 52%|█████▏    | 356/682 [00:04<00:04, 73.86it/s]\u001b[A\n",
      " 54%|█████▎    | 365/682 [00:04<00:04, 77.32it/s]\u001b[A\n",
      " 55%|█████▍    | 374/682 [00:04<00:03, 78.54it/s]\u001b[A\n",
      " 56%|█████▌    | 383/682 [00:05<00:03, 81.54it/s]\u001b[A\n",
      " 57%|█████▋    | 392/682 [00:05<00:03, 82.49it/s]\u001b[A\n",
      " 59%|█████▉    | 401/682 [00:05<00:03, 80.64it/s]\u001b[A\n",
      " 60%|██████    | 410/682 [00:05<00:03, 79.24it/s]\u001b[A\n",
      " 61%|██████▏   | 418/682 [00:05<00:03, 74.82it/s]\u001b[A\n",
      " 62%|██████▏   | 426/682 [00:05<00:03, 72.62it/s]\u001b[A\n",
      " 64%|██████▎   | 434/682 [00:05<00:03, 72.93it/s]\u001b[A\n",
      " 65%|██████▍   | 443/682 [00:05<00:03, 74.42it/s]\u001b[A\n",
      " 66%|██████▋   | 452/682 [00:05<00:02, 77.37it/s]\u001b[A\n",
      " 68%|██████▊   | 462/682 [00:06<00:02, 79.36it/s]\u001b[A\n",
      " 69%|██████▉   | 470/682 [00:06<00:02, 74.87it/s]\u001b[A\n",
      " 70%|███████   | 480/682 [00:06<00:02, 77.56it/s]\u001b[A\n",
      " 72%|███████▏  | 488/682 [00:06<00:02, 74.25it/s]\u001b[A\n",
      " 73%|███████▎  | 496/682 [00:06<00:02, 72.39it/s]\u001b[A\n",
      " 74%|███████▍  | 504/682 [00:06<00:02, 71.15it/s]\u001b[A\n",
      " 75%|███████▌  | 512/682 [00:06<00:02, 72.95it/s]\u001b[A\n",
      " 76%|███████▌  | 520/682 [00:06<00:02, 68.15it/s]\u001b[A\n",
      " 77%|███████▋  | 527/682 [00:06<00:02, 67.64it/s]\u001b[A\n",
      " 78%|███████▊  | 534/682 [00:07<00:02, 66.88it/s]\u001b[A\n",
      " 79%|███████▉  | 541/682 [00:07<00:02, 67.16it/s]\u001b[A\n",
      " 80%|████████  | 549/682 [00:07<00:01, 69.21it/s]\u001b[A\n",
      " 82%|████████▏ | 558/682 [00:07<00:01, 70.30it/s]\u001b[A\n",
      " 83%|████████▎ | 566/682 [00:07<00:01, 66.47it/s]\u001b[A\n",
      " 84%|████████▍ | 575/682 [00:07<00:01, 70.88it/s]\u001b[A\n",
      " 85%|████████▌ | 583/682 [00:07<00:01, 70.81it/s]\u001b[A\n",
      " 87%|████████▋ | 591/682 [00:07<00:01, 72.76it/s]\u001b[A\n",
      " 88%|████████▊ | 600/682 [00:07<00:01, 76.05it/s]\u001b[A\n",
      " 89%|████████▉ | 608/682 [00:08<00:01, 73.08it/s]\u001b[A\n",
      " 90%|█████████ | 616/682 [00:08<00:00, 72.98it/s]\u001b[A\n",
      " 91%|█████████▏| 624/682 [00:08<00:00, 74.84it/s]\u001b[A\n",
      " 93%|█████████▎| 634/682 [00:08<00:00, 77.43it/s]\u001b[A\n",
      " 94%|█████████▍| 643/682 [00:08<00:00, 78.87it/s]\u001b[A\n",
      " 96%|█████████▌| 652/682 [00:08<00:00, 80.71it/s]\u001b[A\n",
      " 97%|█████████▋| 661/682 [00:08<00:00, 75.53it/s]\u001b[A\n",
      " 98%|█████████▊| 670/682 [00:08<00:00, 77.21it/s]\u001b[A\n",
      " 99%|█████████▉| 678/682 [00:09<00:00, 74.30it/s]\u001b[A\n",
      "100%|█████████▉| 681/682 [00:09<00:00, 75.24it/s]\u001b[A"
     ]
    },
    {
     "name": "stdout",
     "output_type": "stream",
     "text": [
      "[MoviePy] Done.\n",
      "[MoviePy] >>>> Video ready: test_videos_output/solidYellowLeft.mp4 \n",
      "\n",
      "CPU times: user 4.76 s, sys: 607 ms, total: 5.37 s\n",
      "Wall time: 9.39 s\n"
     ]
    }
   ],
   "source": [
    "yellow_output = 'test_videos_output/solidYellowLeft.mp4'\n",
    "## To speed up the testing process you may want to try your pipeline on a shorter subclip of the video\n",
    "## To do so add .subclip(start_second,end_second) to the end of the line below\n",
    "## Where start_second and end_second are integer values representing the start and end of the subclip\n",
    "## You may also uncomment the following line for a subclip of the first 5 seconds\n",
    "##clip2 = VideoFileClip('test_videos/solidYellowLeft.mp4').subclip(0,1)\n",
    "clip2 = VideoFileClip('test_videos/solidYellowLeft.mp4')\n",
    "yellow_clip = clip2.fl_image(process_image)\n",
    "%time yellow_clip.write_videofile(yellow_output, audio=False)"
   ]
  },
  {
   "cell_type": "code",
   "execution_count": 71,
   "metadata": {},
   "outputs": [
    {
     "data": {
      "text/html": [
       "\n",
       "<video width=\"960\" height=\"540\" controls>\n",
       "  <source src=\"test_videos_output/solidYellowLeft.mp4\">\n",
       "</video>\n"
      ],
      "text/plain": [
       "<IPython.core.display.HTML object>"
      ]
     },
     "execution_count": 71,
     "metadata": {},
     "output_type": "execute_result"
    }
   ],
   "source": [
    "HTML(\"\"\"\n",
    "<video width=\"960\" height=\"540\" controls>\n",
    "  <source src=\"{0}\">\n",
    "</video>\n",
    "\"\"\".format(yellow_output))"
   ]
  },
  {
   "cell_type": "markdown",
   "metadata": {},
   "source": [
    "## Writeup and Submission\n",
    "\n",
    "If you're satisfied with your video outputs, it's time to make the report writeup in a pdf or markdown file. Once you have this Ipython notebook ready along with the writeup, it's time to submit for review! Here is a [link](https://github.com/udacity/CarND-LaneLines-P1/blob/master/writeup_template.md) to the writeup template file.\n"
   ]
  },
  {
   "cell_type": "markdown",
   "metadata": {
    "collapsed": true
   },
   "source": [
    "## Optional Challenge\n",
    "\n",
    "Try your lane finding pipeline on the video below.  Does it still work?  Can you figure out a way to make it more robust?  If you're up for the challenge, modify your pipeline so it works with this video and submit it along with the rest of your project!"
   ]
  },
  {
   "cell_type": "code",
   "execution_count": 46,
   "metadata": {},
   "outputs": [
    {
     "name": "stdout",
     "output_type": "stream",
     "text": [
      "[MoviePy] >>>> Building video test_videos_output/challenge.mp4\n",
      "[MoviePy] Writing video test_videos_output/challenge.mp4\n"
     ]
    },
    {
     "name": "stderr",
     "output_type": "stream",
     "text": [
      "\n",
      "  0%|          | 0/251 [00:00<?, ?it/s]\u001b[A\n",
      "  3%|▎         | 7/251 [00:00<00:03, 67.00it/s]\u001b[A\n",
      "  6%|▌         | 15/251 [00:00<00:03, 68.40it/s]\u001b[A\n",
      "  9%|▉         | 23/251 [00:00<00:03, 69.75it/s]\u001b[A\n",
      " 12%|█▏        | 30/251 [00:00<00:03, 68.89it/s]\u001b[A\n",
      " 15%|█▍        | 37/251 [00:00<00:03, 68.58it/s]\u001b[A\n",
      " 18%|█▊        | 44/251 [00:00<00:03, 68.56it/s]\u001b[A\n",
      " 20%|██        | 51/251 [00:00<00:03, 52.50it/s]\u001b[A\n",
      " 23%|██▎       | 57/251 [00:00<00:03, 49.17it/s]\u001b[A\n",
      " 25%|██▍       | 62/251 [00:01<00:04, 46.74it/s]\u001b[A\n",
      " 27%|██▋       | 67/251 [00:01<00:04, 45.04it/s]\u001b[A\n",
      " 29%|██▊       | 72/251 [00:01<00:04, 44.03it/s]\u001b[A\n",
      " 31%|███       | 77/251 [00:01<00:04, 42.56it/s]\u001b[A\n",
      " 33%|███▎      | 82/251 [00:01<00:04, 41.35it/s]\u001b[A\n",
      " 35%|███▍      | 87/251 [00:01<00:04, 40.81it/s]\u001b[A\n",
      " 37%|███▋      | 92/251 [00:01<00:03, 40.57it/s]\u001b[A\n",
      " 39%|███▊      | 97/251 [00:01<00:03, 40.44it/s]\u001b[A\n",
      " 41%|████      | 102/251 [00:02<00:03, 40.76it/s]\u001b[A\n",
      " 43%|████▎     | 107/251 [00:02<00:03, 40.35it/s]\u001b[A\n",
      " 45%|████▍     | 112/251 [00:02<00:03, 40.06it/s]\u001b[A\n",
      " 47%|████▋     | 117/251 [00:02<00:03, 39.54it/s]\u001b[A\n",
      " 48%|████▊     | 121/251 [00:02<00:03, 39.26it/s]\u001b[A\n",
      " 50%|████▉     | 125/251 [00:02<00:03, 37.79it/s]\u001b[A\n",
      " 51%|█████▏    | 129/251 [00:02<00:03, 38.19it/s]\u001b[A\n",
      " 53%|█████▎    | 133/251 [00:02<00:03, 35.40it/s]\u001b[A\n",
      " 55%|█████▍    | 137/251 [00:03<00:03, 36.22it/s]\u001b[A\n",
      " 56%|█████▌    | 141/251 [00:03<00:03, 34.68it/s]\u001b[A\n",
      " 58%|█████▊    | 146/251 [00:03<00:02, 36.71it/s]\u001b[A\n",
      " 60%|█████▉    | 150/251 [00:03<00:03, 32.81it/s]\u001b[A\n",
      " 61%|██████▏   | 154/251 [00:03<00:02, 32.91it/s]\u001b[A\n",
      " 63%|██████▎   | 159/251 [00:03<00:02, 34.46it/s]\u001b[A\n",
      " 65%|██████▍   | 163/251 [00:03<00:02, 33.77it/s]\u001b[A\n",
      " 67%|██████▋   | 167/251 [00:03<00:02, 33.16it/s]\u001b[A\n",
      " 68%|██████▊   | 171/251 [00:04<00:02, 33.97it/s]\u001b[A\n",
      " 70%|██████▉   | 175/251 [00:04<00:02, 32.33it/s]\u001b[A\n",
      " 71%|███████▏  | 179/251 [00:04<00:02, 30.57it/s]\u001b[A\n",
      " 73%|███████▎  | 183/251 [00:04<00:02, 32.46it/s]\u001b[A\n",
      " 75%|███████▍  | 187/251 [00:04<00:01, 33.61it/s]\u001b[A\n",
      " 76%|███████▌  | 191/251 [00:04<00:01, 31.80it/s]\u001b[A\n",
      " 78%|███████▊  | 195/251 [00:04<00:01, 31.99it/s]\u001b[A\n",
      " 80%|███████▉  | 200/251 [00:04<00:01, 35.33it/s]\u001b[A\n",
      " 81%|████████▏ | 204/251 [00:05<00:01, 34.69it/s]\u001b[A\n",
      " 83%|████████▎ | 208/251 [00:05<00:01, 34.37it/s]\u001b[A\n",
      " 84%|████████▍ | 212/251 [00:05<00:01, 35.71it/s]\u001b[A\n",
      " 86%|████████▋ | 217/251 [00:05<00:00, 38.07it/s]\u001b[A\n",
      " 88%|████████▊ | 221/251 [00:05<00:00, 37.27it/s]\u001b[A\n",
      " 90%|████████▉ | 225/251 [00:05<00:00, 37.25it/s]\u001b[A\n",
      " 92%|█████████▏| 230/251 [00:05<00:00, 38.87it/s]\u001b[A\n",
      " 94%|█████████▎| 235/251 [00:05<00:00, 39.79it/s]\u001b[A\n",
      " 96%|█████████▌| 240/251 [00:05<00:00, 40.19it/s]\u001b[A\n",
      " 98%|█████████▊| 245/251 [00:06<00:00, 40.78it/s]\u001b[A\n",
      "100%|█████████▉| 250/251 [00:06<00:00, 41.08it/s]\u001b[A\n",
      "100%|██████████| 251/251 [00:06<00:00, 40.47it/s]\u001b[A"
     ]
    },
    {
     "name": "stdout",
     "output_type": "stream",
     "text": [
      "[MoviePy] Done.\n",
      "[MoviePy] >>>> Video ready: test_videos_output/challenge.mp4 \n",
      "\n",
      "CPU times: user 3.2 s, sys: 370 ms, total: 3.57 s\n",
      "Wall time: 6.92 s\n"
     ]
    }
   ],
   "source": [
    "challenge_output = 'test_videos_output/challenge.mp4'\n",
    "## To speed up the testing process you may want to try your pipeline on a shorter subclip of the video\n",
    "## To do so add .subclip(start_second,end_second) to the end of the line below\n",
    "## Where start_second and end_second are integer values representing the start and end of the subclip\n",
    "## You may also uncomment the following line for a subclip of the first 5 seconds\n",
    "##clip3 = VideoFileClip('test_videos/challenge.mp4').subclip(0,5)\n",
    "clip3 = VideoFileClip('test_videos/challenge.mp4')\n",
    "challenge_clip = clip3.fl_image(process_image)\n",
    "%time challenge_clip.write_videofile(challenge_output, audio=False)"
   ]
  },
  {
   "cell_type": "code",
   "execution_count": 48,
   "metadata": {},
   "outputs": [
    {
     "data": {
      "text/html": [
       "\n",
       "<video width=\"960\" height=\"540\" controls>\n",
       "  <source src=\"test_videos_output/challenge.mp4\">\n",
       "</video>\n"
      ],
      "text/plain": [
       "<IPython.core.display.HTML object>"
      ]
     },
     "execution_count": 48,
     "metadata": {},
     "output_type": "execute_result"
    }
   ],
   "source": [
    "HTML(\"\"\"\n",
    "<video width=\"960\" height=\"540\" controls>\n",
    "  <source src=\"{0}\">\n",
    "</video>\n",
    "\"\"\".format(challenge_output))"
   ]
  },
  {
   "cell_type": "code",
   "execution_count": null,
   "metadata": {},
   "outputs": [],
   "source": []
  }
 ],
 "metadata": {
  "anaconda-cloud": {},
  "kernelspec": {
   "display_name": "Python 3",
   "language": "python",
   "name": "python3"
  },
  "language_info": {
   "codemirror_mode": {
    "name": "ipython",
    "version": 3
   },
   "file_extension": ".py",
   "mimetype": "text/x-python",
   "name": "python",
   "nbconvert_exporter": "python",
   "pygments_lexer": "ipython3",
   "version": "3.5.2"
  },
  "widgets": {
   "state": {},
   "version": "1.1.2"
  }
 },
 "nbformat": 4,
 "nbformat_minor": 1
}
